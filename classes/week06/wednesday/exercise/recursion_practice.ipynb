{
 "cells": [
  {
   "cell_type": "markdown",
   "id": "eff0fbfb",
   "metadata": {},
   "source": [
    "# 🧩 Recursion Practice Problems\n",
    "These exercises give you hands-on practice with recursion in Python.\n",
    "Each problem includes a short description followed by an empty code block — fill in your own solution!"
   ]
  },
  {
   "cell_type": "markdown",
   "id": "80791047",
   "metadata": {},
   "source": [
    "## 1️⃣ Reverse a String\n",
    "Write a recursive function `reverse(s)` that returns the reverse of a string."
   ]
  },
  {
   "cell_type": "code",
   "execution_count": 1,
   "id": "2",
   "metadata": {},
   "outputs": [
    {
     "name": "stdout",
     "output_type": "stream",
     "text": [
      "elloh\n"
     ]
    }
   ],
   "source": [
    "# TODO: Implement reverse(s)\n",
    "def rev(txt):\n",
    "    if len(txt) == 0: return ''\n",
    "    else: return(txt[1:]) + txt[0]\n",
    "\n",
    "txt = 'hello'\n",
    "print(rev(txt))"
   ]
  },
  {
   "cell_type": "markdown",
   "id": "b438b95c",
   "metadata": {},
   "source": [
    "## 2️⃣ Palindrome Check\n",
    "Write a recursive function `is_palindrome(s)` that returns `True` if the string reads the same forward and backward."
   ]
  },
  {
   "cell_type": "code",
   "execution_count": null,
   "id": "4",
   "metadata": {},
   "outputs": [],
   "source": [
    "# TODO: Implement is_palindrome(s)\n",
    "def is_palindrome(txt): \n",
    "    if len(txt) <=1: return True\n",
    "    elif txt[0] != txt[-1]: return False\n",
    "    else: return(is_palindrome)"
   ]
  },
  {
   "cell_type": "markdown",
   "id": "096f6e39",
   "metadata": {},
   "source": [
    "## 3️⃣ Count Occurrences\n",
    "Write a recursive function `count_occurrences(lst, target)` that counts how many times `target` appears in the list."
   ]
  },
  {
   "cell_type": "code",
   "execution_count": 3,
   "id": "6",
   "metadata": {},
   "outputs": [
    {
     "name": "stdout",
     "output_type": "stream",
     "text": [
      "4\n"
     ]
    }
   ],
   "source": [
    "# TODO: Implement count_occurrences(lst, target)\n",
    "lst = [1,2,2,3,2,45,2]\n",
    "\n",
    "def count_occurances(lst, target):\n",
    "    if len(lst) == 0: return 0\n",
    "    elif lst[0] == target: return 1 + count_occurances(lst[1:], target)\n",
    "    else: return 0 + count_occurances(lst[1:], target)\n",
    "\n",
    "print(count_occurances(lst, 2))"
   ]
  },
  {
   "cell_type": "markdown",
   "id": "c3eac5bf",
   "metadata": {},
   "source": [
    "## 4️⃣ Sum of Digits\n",
    "Write a recursive function `sum_digits(n)` that returns the sum of the digits of a non-negative integer."
   ]
  },
  {
   "cell_type": "code",
   "execution_count": 4,
   "id": "8",
   "metadata": {},
   "outputs": [
    {
     "name": "stdout",
     "output_type": "stream",
     "text": [
      "6\n"
     ]
    }
   ],
   "source": [
    "# TODO: Implement sum_digits(n)\n",
    "def sod(num):\n",
    "    if num == 0: return 0\n",
    "    else: return num % 10 + sod(num // 10)\n",
    "\n",
    "print(sod(123))"
   ]
  },
  {
   "cell_type": "markdown",
   "id": "6558c87b",
   "metadata": {},
   "source": [
    "## 5️⃣ Power Function\n",
    "Write a recursive function `power(a, b)` that returns a to the power of b (a^b)."
   ]
  },
  {
   "cell_type": "code",
   "execution_count": 6,
   "id": "10",
   "metadata": {},
   "outputs": [
    {
     "name": "stdout",
     "output_type": "stream",
     "text": [
      "32\n"
     ]
    }
   ],
   "source": [
    "# TODO: Implement power(a, b)\n",
    "def power(a, b):\n",
    "    if b == 0: return 1\n",
    "    else: return a * power(a, b - 1)\n",
    "\n",
    "print(power(2, 5))"
   ]
  },
  {
   "cell_type": "markdown",
   "id": "ae684e33",
   "metadata": {},
   "source": [
    "## 6️⃣ Find Maximum in a List\n",
    "Write a recursive function `find_max(lst)` that returns the largest element in the list.\n"
   ]
  },
  {
   "cell_type": "code",
   "execution_count": 8,
   "id": "12",
   "metadata": {},
   "outputs": [
    {
     "name": "stdout",
     "output_type": "stream",
     "text": [
      "99\n"
     ]
    }
   ],
   "source": [
    "# TODO: Implement find_max(lst)\n",
    "def find_max(lst):\n",
    "    if len(lst) == 0: return float('-inf')\n",
    "    else: return max(lst[0], find_max(lst[1:]))\n",
    "\n",
    "lst = [1, 2, 5, 99, 3, 4]\n",
    "print(find_max(lst))"
   ]
  },
  {
   "cell_type": "markdown",
   "id": "24c21f1a",
   "metadata": {},
   "source": [
    "## 7️⃣ Product of Elements in a List\n",
    "Write a recursive function `product(lst)` that returns the product of all elements in a list.\n",
    "Return 1 for an empty list."
   ]
  },
  {
   "cell_type": "code",
   "execution_count": null,
   "id": "14",
   "metadata": {},
   "outputs": [],
   "source": [
    "# TODO: Implement product(lst)\n",
    "\n",
    "def products(lst):\n",
    "    if len(lst) == 0: return "
   ]
  },
  {
   "cell_type": "markdown",
   "id": "10ff5354",
   "metadata": {},
   "source": [
    "## 8️⃣ Flatten a Nested List\n",
    "Write a recursive function `flatten(lst)` that takes a nested list and returns a single flat list.\n",
    "Example: `[1, [2, [3, 4]], 5] → [1, 2, 3, 4, 5]`"
   ]
  },
  {
   "cell_type": "code",
   "execution_count": null,
   "id": "16",
   "metadata": {},
   "outputs": [],
   "source": [
    "# TODO: Implement flatten(lst)\n",
    "lst = [1,2,2,2,3,4,5,5,6] \n",
    "\n",
    "def dupes(lst):\n",
    "    if len(lst) <= 1: return lst\n",
    "    elif lst[0] == lst[1]:  \n",
    "    else: return lst[0] + "
   ]
  },
  {
   "cell_type": "markdown",
   "id": "081abef6",
   "metadata": {},
   "source": [
    "## 9️⃣ Print Numbers in Binary\n",
    "Write a recursive function `to_binary(n)` that prints the binary representation of a non-negative integer."
   ]
  },
  {
   "cell_type": "code",
   "execution_count": null,
   "id": "18",
   "metadata": {},
   "outputs": [],
   "source": [
    "# TODO: Implement to_binary(n)\n"
   ]
  },
  {
   "cell_type": "markdown",
   "id": "8d6a5c90",
   "metadata": {},
   "source": [
    "## 10. Draw a Triangle of Stars\n",
    "\n",
    "Write a recursive function `triangle(n)` that prints a right-angled triangle with `n` rows of `*`.\n",
    "\n",
    "Example for n=4:\n",
    "```\n",
    "*\n",
    "**\n",
    "***\n",
    "****\n",
    "```\n"
   ]
  },
  {
   "cell_type": "code",
   "execution_count": null,
   "id": "a6d8a3f5",
   "metadata": {},
   "outputs": [],
   "source": [
    "# TODO: Implement triangle(n)\n",
    "def triangle(n):\n",
    "    pass\n",
    "\n",
    "# Test your function\n",
    "# triangle(4)\n"
   ]
  }
 ],
 "metadata": {
  "kernelspec": {
   "display_name": "venv",
   "language": "python",
   "name": "python3"
  },
  "language_info": {
   "codemirror_mode": {
    "name": "ipython",
    "version": 3
   },
   "file_extension": ".py",
   "mimetype": "text/x-python",
   "name": "python",
   "nbconvert_exporter": "python",
   "pygments_lexer": "ipython3",
   "version": "3.10.18"
  }
 },
 "nbformat": 4,
 "nbformat_minor": 5
}
