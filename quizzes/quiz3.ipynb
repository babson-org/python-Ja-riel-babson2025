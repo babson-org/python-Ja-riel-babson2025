{
 "cells": [
  {
   "cell_type": "markdown",
   "id": "21c90b19",
   "metadata": {},
   "source": [
    "# Quiz 3\n",
    "\n",
    "**Problem:**\n",
    "\n",
    "Create a **recursive function** that deletes consecutive duplicates from a list.\n",
    "\n",
    "Example:\n",
    "```python\n",
    "lst = [1, 1, 1, 2, 2, 1, 3, 2, 2] → [1, 2, 1, 3, 2]\n",
    "```\n",
    "\n",
    "If you are unable to create the function recursively, you can receive **partial credit**   \n",
    "by solving the problem another way — for example, using a **for loop** or **while loop**.\n",
    "\n",
    "---\n",
    "**Function Signature:**\n",
    "```python\n",
    "def remove_consecutive_duplicates(lst):\n",
    "    # TODO: Implement recursively\n",
    "\n",
    "'''\n",
    "Remember: 1) if you add two lists together you get a list. -> [1] + [2, 3] = [1, 2, 3]   ! 1 + [2, 3] -> error\n",
    "          2) if you slice into a list you get a list\n",
    "          3) lst[0] gives you the item.  lst[0] will give you 1 not [1]\n",
    "          4) [lst[0]] or lst[0:1] will give you [1]\n",
    "\n",
    "Hint:     1) Think about your base case. If len(lst) <= 1 you probably just \n",
    "             want to return the lst          \n",
    "          2) Think about comparing lst[0] to lst[1]\n",
    "          3) You have 2 cases now. Either you have a duplicate or you don't\n",
    "          4) If you have a duplicate you just need to call the function with \n",
    "             a smaller list.  Suppose: [1, 1, 1, 2]\n",
    "          5) If you don't have a duplicate you need to return the item as a \n",
    "             list + a call to the function with a smaller list\n",
    "\n",
    "'''"
   ]
  },
  {
   "cell_type": "code",
   "execution_count": 12,
   "id": "c33bfa53",
   "metadata": {},
   "outputs": [
    {
     "ename": "TypeError",
     "evalue": "unsupported operand type(s) for +: 'int' and 'list'",
     "output_type": "error",
     "traceback": [
      "\u001b[0;31m---------------------------------------------------------------------------\u001b[0m",
      "\u001b[0;31mTypeError\u001b[0m                                 Traceback (most recent call last)",
      "Cell \u001b[0;32mIn[12], line 12\u001b[0m\n\u001b[1;32m      9\u001b[0m \u001b[38;5;66;03m# You can test your function with the example below:\u001b[39;00m\n\u001b[1;32m     11\u001b[0m lst \u001b[38;5;241m=\u001b[39m [\u001b[38;5;241m1\u001b[39m, \u001b[38;5;241m1\u001b[39m, \u001b[38;5;241m1\u001b[39m, \u001b[38;5;241m2\u001b[39m, \u001b[38;5;241m2\u001b[39m, \u001b[38;5;241m1\u001b[39m, \u001b[38;5;241m3\u001b[39m, \u001b[38;5;241m2\u001b[39m, \u001b[38;5;241m2\u001b[39m]\n\u001b[0;32m---> 12\u001b[0m \u001b[38;5;28mprint\u001b[39m(\u001b[43mremove_consecutive_duplicates\u001b[49m\u001b[43m(\u001b[49m\u001b[43mlst\u001b[49m\u001b[43m)\u001b[49m)  \u001b[38;5;66;03m# Expected: [1,2,1,3,2]\u001b[39;00m\n",
      "Cell \u001b[0;32mIn[12], line 5\u001b[0m, in \u001b[0;36mremove_consecutive_duplicates\u001b[0;34m(lst)\u001b[0m\n\u001b[1;32m      3\u001b[0m \u001b[38;5;28;01mdef\u001b[39;00m\u001b[38;5;250m \u001b[39m\u001b[38;5;21mremove_consecutive_duplicates\u001b[39m(lst):\n\u001b[1;32m      4\u001b[0m     \u001b[38;5;28;01mif\u001b[39;00m \u001b[38;5;28mlen\u001b[39m(lst) \u001b[38;5;241m<\u001b[39m\u001b[38;5;241m=\u001b[39m \u001b[38;5;241m1\u001b[39m: \u001b[38;5;28;01mreturn\u001b[39;00m lst\n\u001b[0;32m----> 5\u001b[0m     \u001b[38;5;28;01melif\u001b[39;00m lst[\u001b[38;5;241m0\u001b[39m] \u001b[38;5;241m==\u001b[39m lst[\u001b[38;5;241m1\u001b[39m]: \u001b[38;5;28;01mreturn\u001b[39;00m \u001b[43mremove_consecutive_duplicates\u001b[49m\u001b[43m(\u001b[49m\u001b[43mlst\u001b[49m\u001b[43m[\u001b[49m\u001b[38;5;241;43m1\u001b[39;49m\u001b[43m:\u001b[49m\u001b[43m]\u001b[49m\u001b[43m)\u001b[49m\n\u001b[1;32m      6\u001b[0m     \u001b[38;5;28;01melse\u001b[39;00m: \u001b[38;5;28;01mreturn\u001b[39;00m lst[\u001b[38;5;241m0\u001b[39m] \u001b[38;5;241m+\u001b[39m remove_consecutive_duplicates(lst[\u001b[38;5;241m1\u001b[39m:])\n\u001b[1;32m      7\u001b[0m     \u001b[38;5;28;01mpass\u001b[39;00m\n",
      "Cell \u001b[0;32mIn[12], line 5\u001b[0m, in \u001b[0;36mremove_consecutive_duplicates\u001b[0;34m(lst)\u001b[0m\n\u001b[1;32m      3\u001b[0m \u001b[38;5;28;01mdef\u001b[39;00m\u001b[38;5;250m \u001b[39m\u001b[38;5;21mremove_consecutive_duplicates\u001b[39m(lst):\n\u001b[1;32m      4\u001b[0m     \u001b[38;5;28;01mif\u001b[39;00m \u001b[38;5;28mlen\u001b[39m(lst) \u001b[38;5;241m<\u001b[39m\u001b[38;5;241m=\u001b[39m \u001b[38;5;241m1\u001b[39m: \u001b[38;5;28;01mreturn\u001b[39;00m lst\n\u001b[0;32m----> 5\u001b[0m     \u001b[38;5;28;01melif\u001b[39;00m lst[\u001b[38;5;241m0\u001b[39m] \u001b[38;5;241m==\u001b[39m lst[\u001b[38;5;241m1\u001b[39m]: \u001b[38;5;28;01mreturn\u001b[39;00m \u001b[43mremove_consecutive_duplicates\u001b[49m\u001b[43m(\u001b[49m\u001b[43mlst\u001b[49m\u001b[43m[\u001b[49m\u001b[38;5;241;43m1\u001b[39;49m\u001b[43m:\u001b[49m\u001b[43m]\u001b[49m\u001b[43m)\u001b[49m\n\u001b[1;32m      6\u001b[0m     \u001b[38;5;28;01melse\u001b[39;00m: \u001b[38;5;28;01mreturn\u001b[39;00m lst[\u001b[38;5;241m0\u001b[39m] \u001b[38;5;241m+\u001b[39m remove_consecutive_duplicates(lst[\u001b[38;5;241m1\u001b[39m:])\n\u001b[1;32m      7\u001b[0m     \u001b[38;5;28;01mpass\u001b[39;00m\n",
      "Cell \u001b[0;32mIn[12], line 6\u001b[0m, in \u001b[0;36mremove_consecutive_duplicates\u001b[0;34m(lst)\u001b[0m\n\u001b[1;32m      4\u001b[0m \u001b[38;5;28;01mif\u001b[39;00m \u001b[38;5;28mlen\u001b[39m(lst) \u001b[38;5;241m<\u001b[39m\u001b[38;5;241m=\u001b[39m \u001b[38;5;241m1\u001b[39m: \u001b[38;5;28;01mreturn\u001b[39;00m lst\n\u001b[1;32m      5\u001b[0m \u001b[38;5;28;01melif\u001b[39;00m lst[\u001b[38;5;241m0\u001b[39m] \u001b[38;5;241m==\u001b[39m lst[\u001b[38;5;241m1\u001b[39m]: \u001b[38;5;28;01mreturn\u001b[39;00m remove_consecutive_duplicates(lst[\u001b[38;5;241m1\u001b[39m:])\n\u001b[0;32m----> 6\u001b[0m \u001b[38;5;28;01melse\u001b[39;00m: \u001b[38;5;28;01mreturn\u001b[39;00m lst[\u001b[38;5;241m0\u001b[39m] \u001b[38;5;241m+\u001b[39m \u001b[43mremove_consecutive_duplicates\u001b[49m\u001b[43m(\u001b[49m\u001b[43mlst\u001b[49m\u001b[43m[\u001b[49m\u001b[38;5;241;43m1\u001b[39;49m\u001b[43m:\u001b[49m\u001b[43m]\u001b[49m\u001b[43m)\u001b[49m\n\u001b[1;32m      7\u001b[0m \u001b[38;5;28;01mpass\u001b[39;00m\n",
      "Cell \u001b[0;32mIn[12], line 5\u001b[0m, in \u001b[0;36mremove_consecutive_duplicates\u001b[0;34m(lst)\u001b[0m\n\u001b[1;32m      3\u001b[0m \u001b[38;5;28;01mdef\u001b[39;00m\u001b[38;5;250m \u001b[39m\u001b[38;5;21mremove_consecutive_duplicates\u001b[39m(lst):\n\u001b[1;32m      4\u001b[0m     \u001b[38;5;28;01mif\u001b[39;00m \u001b[38;5;28mlen\u001b[39m(lst) \u001b[38;5;241m<\u001b[39m\u001b[38;5;241m=\u001b[39m \u001b[38;5;241m1\u001b[39m: \u001b[38;5;28;01mreturn\u001b[39;00m lst\n\u001b[0;32m----> 5\u001b[0m     \u001b[38;5;28;01melif\u001b[39;00m lst[\u001b[38;5;241m0\u001b[39m] \u001b[38;5;241m==\u001b[39m lst[\u001b[38;5;241m1\u001b[39m]: \u001b[38;5;28;01mreturn\u001b[39;00m \u001b[43mremove_consecutive_duplicates\u001b[49m\u001b[43m(\u001b[49m\u001b[43mlst\u001b[49m\u001b[43m[\u001b[49m\u001b[38;5;241;43m1\u001b[39;49m\u001b[43m:\u001b[49m\u001b[43m]\u001b[49m\u001b[43m)\u001b[49m\n\u001b[1;32m      6\u001b[0m     \u001b[38;5;28;01melse\u001b[39;00m: \u001b[38;5;28;01mreturn\u001b[39;00m lst[\u001b[38;5;241m0\u001b[39m] \u001b[38;5;241m+\u001b[39m remove_consecutive_duplicates(lst[\u001b[38;5;241m1\u001b[39m:])\n\u001b[1;32m      7\u001b[0m     \u001b[38;5;28;01mpass\u001b[39;00m\n",
      "Cell \u001b[0;32mIn[12], line 6\u001b[0m, in \u001b[0;36mremove_consecutive_duplicates\u001b[0;34m(lst)\u001b[0m\n\u001b[1;32m      4\u001b[0m \u001b[38;5;28;01mif\u001b[39;00m \u001b[38;5;28mlen\u001b[39m(lst) \u001b[38;5;241m<\u001b[39m\u001b[38;5;241m=\u001b[39m \u001b[38;5;241m1\u001b[39m: \u001b[38;5;28;01mreturn\u001b[39;00m lst\n\u001b[1;32m      5\u001b[0m \u001b[38;5;28;01melif\u001b[39;00m lst[\u001b[38;5;241m0\u001b[39m] \u001b[38;5;241m==\u001b[39m lst[\u001b[38;5;241m1\u001b[39m]: \u001b[38;5;28;01mreturn\u001b[39;00m remove_consecutive_duplicates(lst[\u001b[38;5;241m1\u001b[39m:])\n\u001b[0;32m----> 6\u001b[0m \u001b[38;5;28;01melse\u001b[39;00m: \u001b[38;5;28;01mreturn\u001b[39;00m lst[\u001b[38;5;241m0\u001b[39m] \u001b[38;5;241m+\u001b[39m \u001b[43mremove_consecutive_duplicates\u001b[49m\u001b[43m(\u001b[49m\u001b[43mlst\u001b[49m\u001b[43m[\u001b[49m\u001b[38;5;241;43m1\u001b[39;49m\u001b[43m:\u001b[49m\u001b[43m]\u001b[49m\u001b[43m)\u001b[49m\n\u001b[1;32m      7\u001b[0m \u001b[38;5;28;01mpass\u001b[39;00m\n",
      "Cell \u001b[0;32mIn[12], line 6\u001b[0m, in \u001b[0;36mremove_consecutive_duplicates\u001b[0;34m(lst)\u001b[0m\n\u001b[1;32m      4\u001b[0m \u001b[38;5;28;01mif\u001b[39;00m \u001b[38;5;28mlen\u001b[39m(lst) \u001b[38;5;241m<\u001b[39m\u001b[38;5;241m=\u001b[39m \u001b[38;5;241m1\u001b[39m: \u001b[38;5;28;01mreturn\u001b[39;00m lst\n\u001b[1;32m      5\u001b[0m \u001b[38;5;28;01melif\u001b[39;00m lst[\u001b[38;5;241m0\u001b[39m] \u001b[38;5;241m==\u001b[39m lst[\u001b[38;5;241m1\u001b[39m]: \u001b[38;5;28;01mreturn\u001b[39;00m remove_consecutive_duplicates(lst[\u001b[38;5;241m1\u001b[39m:])\n\u001b[0;32m----> 6\u001b[0m \u001b[38;5;28;01melse\u001b[39;00m: \u001b[38;5;28;01mreturn\u001b[39;00m lst[\u001b[38;5;241m0\u001b[39m] \u001b[38;5;241m+\u001b[39m \u001b[43mremove_consecutive_duplicates\u001b[49m\u001b[43m(\u001b[49m\u001b[43mlst\u001b[49m\u001b[43m[\u001b[49m\u001b[38;5;241;43m1\u001b[39;49m\u001b[43m:\u001b[49m\u001b[43m]\u001b[49m\u001b[43m)\u001b[49m\n\u001b[1;32m      7\u001b[0m \u001b[38;5;28;01mpass\u001b[39;00m\n",
      "Cell \u001b[0;32mIn[12], line 6\u001b[0m, in \u001b[0;36mremove_consecutive_duplicates\u001b[0;34m(lst)\u001b[0m\n\u001b[1;32m      4\u001b[0m \u001b[38;5;28;01mif\u001b[39;00m \u001b[38;5;28mlen\u001b[39m(lst) \u001b[38;5;241m<\u001b[39m\u001b[38;5;241m=\u001b[39m \u001b[38;5;241m1\u001b[39m: \u001b[38;5;28;01mreturn\u001b[39;00m lst\n\u001b[1;32m      5\u001b[0m \u001b[38;5;28;01melif\u001b[39;00m lst[\u001b[38;5;241m0\u001b[39m] \u001b[38;5;241m==\u001b[39m lst[\u001b[38;5;241m1\u001b[39m]: \u001b[38;5;28;01mreturn\u001b[39;00m remove_consecutive_duplicates(lst[\u001b[38;5;241m1\u001b[39m:])\n\u001b[0;32m----> 6\u001b[0m \u001b[38;5;28;01melse\u001b[39;00m: \u001b[38;5;28;01mreturn\u001b[39;00m \u001b[43mlst\u001b[49m\u001b[43m[\u001b[49m\u001b[38;5;241;43m0\u001b[39;49m\u001b[43m]\u001b[49m\u001b[43m \u001b[49m\u001b[38;5;241;43m+\u001b[39;49m\u001b[43m \u001b[49m\u001b[43mremove_consecutive_duplicates\u001b[49m\u001b[43m(\u001b[49m\u001b[43mlst\u001b[49m\u001b[43m[\u001b[49m\u001b[38;5;241;43m1\u001b[39;49m\u001b[43m:\u001b[49m\u001b[43m]\u001b[49m\u001b[43m)\u001b[49m\n\u001b[1;32m      7\u001b[0m \u001b[38;5;28;01mpass\u001b[39;00m\n",
      "\u001b[0;31mTypeError\u001b[0m: unsupported operand type(s) for +: 'int' and 'list'"
     ]
    }
   ],
   "source": [
    "# TODO: Implement your solution below\n",
    "\n",
    "def remove_consecutive_duplicates(lst):\n",
    "    if len(lst) <= 1: return lst\n",
    "    elif lst[0] == lst[1]: return remove_consecutive_duplicates(lst[1:])\n",
    "    else: return lst[0] + remove_consecutive_duplicates(lst[1:])\n",
    "    pass\n",
    "\n",
    "# You can test your function with the example below:\n",
    "\n",
    "lst = [1, 1, 1, 2, 2, 1, 3, 2, 2]\n",
    "print(remove_consecutive_duplicates(lst))  # Expected: [1,2,1,3,2]"
   ]
  }
 ],
 "metadata": {
  "kernelspec": {
   "display_name": "venv",
   "language": "python",
   "name": "python3"
  },
  "language_info": {
   "codemirror_mode": {
    "name": "ipython",
    "version": 3
   },
   "file_extension": ".py",
   "mimetype": "text/x-python",
   "name": "python",
   "nbconvert_exporter": "python",
   "pygments_lexer": "ipython3",
   "version": "3.10.18"
  }
 },
 "nbformat": 4,
 "nbformat_minor": 5
}
