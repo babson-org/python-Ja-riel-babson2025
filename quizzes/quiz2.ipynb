{
 "cells": [
  {
   "cell_type": "markdown",
   "id": "0",
   "metadata": {},
   "source": [
    "# Quiz 2 — Clients & Transactions \n",
    "\n",
    "You are given a JSON file of client accounts and their transactions.\n",
    "\n",
    "## Data Model\n",
    "- `clients`: **list** of client dictionaries\n",
    "- each **client** has keys:\n",
    "  - `fname`, `lname`: client name\n",
    "  - `transactions`: **list** of transaction dictionaries\n",
    "- each **transaction** has keys:\n",
    "  - `type` (`BUY`, `SELL`, `CONTRIBUTION`, `WITHDRAWAL`)\n",
    "  - `price`\n",
    "  - `shares`\n",
    "  - `symbol`\n",
    "  - `date` (YYYY-MM-DD)\n",
    "  - `total` (`price * shares`)\n",
    "\n",
    "> You only need to edit the TODO cells. Keep your solutions simple and readable. Work in order and run each cell before moving on. Be sure to run every cell in order"
   ]
  },
  {
   "cell_type": "code",
   "execution_count": 4,
   "id": "1",
   "metadata": {},
   "outputs": [
    {
     "name": "stdout",
     "output_type": "stream",
     "text": [
      "Loaded 3 clients\n"
     ]
    }
   ],
   "source": [
    "import json\n",
    "from pprint import pprint\n",
    "\n",
    "# Step 1 — Load the data (quiz2_data.json is in the same folder as this notebook/program)\n",
    "with open(\"quiz2_data.json\", \"r\") as f:\n",
    "    clients = json.load(f)\n",
    "\n",
    "print(f\"Loaded {len(clients)} clients\")"
   ]
  },
  {
   "cell_type": "markdown",
   "id": "2",
   "metadata": {},
   "source": [
    "### Step 1B — Understand the structure\n",
    "Take a quick look and make sure you understand the shape of `clients`, a single `client`, and each `transaction`."
   ]
  },
  {
   "cell_type": "code",
   "execution_count": 5,
   "id": "3",
   "metadata": {},
   "outputs": [
    {
     "name": "stdout",
     "output_type": "stream",
     "text": [
      "Client keys: ['fname', 'lname', 'transactions']\n",
      "Number of transactions for client 0: 14\n",
      "Example transaction (client 0, first):\n",
      "{'date': '2025-01-25',\n",
      " 'price': 33.44,\n",
      " 'shares': 4,\n",
      " 'symbol': 'PFE',\n",
      " 'total': 133.76,\n",
      " 'type': 'BUY'}\n"
     ]
    }
   ],
   "source": [
    "# Peek at structure (read-only)\n",
    "print(\"Client keys:\", list(clients[0].keys()))\n",
    "print(\"Number of transactions for client 0:\", len(clients[0][\"transactions\"]))\n",
    "print(\"Example transaction (client 0, first):\")\n",
    "pprint(clients[0][\"transactions\"][0])"
   ]
  },
  {
   "cell_type": "markdown",
   "id": "4",
   "metadata": {},
   "source": [
    "## TODO 1 — Get the second client's transactions\n",
    "Create a variable `trans` and set it equal to the **second client's** transactions.\n",
    "\n",
    "- The second client is at index `1` in the `clients` list.\n",
    "- After you set `trans`, print how many transactions there are as a quick check."
   ]
  },
  {
   "cell_type": "code",
   "execution_count": 7,
   "id": "5",
   "metadata": {},
   "outputs": [
    {
     "name": "stdout",
     "output_type": "stream",
     "text": [
      "Second client transaction count: 14\n",
      "First 2 transactions: \n",
      "[{'date': '2025-01-02',\n",
      "  'price': 1.0,\n",
      "  'shares': 25000.0,\n",
      "  'symbol': '$$$$',\n",
      "  'total': 25000.0,\n",
      "  'type': 'CONTRIBUTION'},\n",
      " {'date': '2025-01-29',\n",
      "  'price': 1.0,\n",
      "  'shares': 990.47,\n",
      "  'symbol': '$$$$',\n",
      "  'total': 990.47,\n",
      "  'type': 'WITHDRAWAL'}]\n"
     ]
    }
   ],
   "source": [
    "# TODO 1: set trans to the second client's transactions \n",
    "\n",
    "# YOUR CODE HERE\n",
    "trans = clients[1]['transactions']  # <-- replace None\n",
    "\n",
    "print(\"Second client transaction count:\", None if trans is None else len(trans))\n",
    "print(\"First 2 transactions: \")\n",
    "from pprint import pprint\n",
    "pprint(trans[:2] if trans else [])"
   ]
  },
  {
   "cell_type": "markdown",
   "id": "6",
   "metadata": {},
   "source": [
    "## TODO 2  — Ending cash value for the second client\n",
    "Create a variable `cash` and set it to `0.0`. Process **all transactions** for the second client and compute the **ending cash** value.\n",
    "\n",
    "**Rules:**\n",
    "- `BUY` and `WITHDRAWAL` **decrease** cash\n",
    "- `SELL` and `CONTRIBUTION` **increase** cash\n",
    "\n",
    "**Hints:**\n",
    "- Use the `total` field on each transaction.\n",
    "- Use an `if/elif` chain on `trn['type']`.\n",
    "- Iterate over `trans` (already sorted)."
   ]
  },
  {
   "cell_type": "code",
   "execution_count": 11,
   "id": "7",
   "metadata": {},
   "outputs": [
    {
     "name": "stdout",
     "output_type": "stream",
     "text": [
      "Ending cash (client 2): 33054.29000000001\n"
     ]
    }
   ],
   "source": [
    "# TODO 2: compute ending cash for second client\n",
    "cash = 0.0\n",
    "\n",
    "for trn in trans:\n",
    "    ttype = trn[\"type\"]\n",
    "    total = trn[\"total\"]\n",
    "    if trn['type'] == 'SALE' or 'CONTRIBUTION':\n",
    "        cash += trn['total']\n",
    "    elif trn['type'] == 'BUY' or 'WITHDRAWAL' :\n",
    "        cash -= trn['total']\n",
    "    \n",
    "    pass\n",
    "\n",
    "print(\"Ending cash (client 2):\", cash)"
   ]
  },
  {
   "cell_type": "markdown",
   "id": "8",
   "metadata": {},
   "source": [
    "## TODO 3  — Create and insert `positions` for the second client\n",
    "Create an **empty list** named `positions`. This will be a list of **position dictionaries**. A position dictionary has **only** the keys:\n",
    "- `symbol`\n",
    "- `shares`\n",
    "\n",
    "**Notes:**\n",
    "- There should be **one position per symbol** in the final result (no duplicates).\n",
    "- Use `symbol = \"$$$$\"` for **cash** and create a cash position dictionary with `shares = cash`.\n",
    "- Append that cash position to `positions`.\n",
    "- Insert `positions` to the second client: `clients[1]['positions'] = positions`."
   ]
  },
  {
   "cell_type": "code",
   "execution_count": null,
   "id": "9",
   "metadata": {},
   "outputs": [
    {
     "ename": "SyntaxError",
     "evalue": "invalid syntax (1658870129.py, line 5)",
     "output_type": "error",
     "traceback": [
      "\u001b[0;36m  Cell \u001b[0;32mIn[14], line 5\u001b[0;36m\u001b[0m\n\u001b[0;31m    positions = [{'symbol': $$$$, 'shares': cash}]\u001b[0m\n\u001b[0m                            ^\u001b[0m\n\u001b[0;31mSyntaxError\u001b[0m\u001b[0;31m:\u001b[0m invalid syntax\n"
     ]
    }
   ],
   "source": [
    "# TODO 3: create positions list, create position dictionary for cash, \n",
    "# append position to positions,  insert positions to second client\n",
    "\n",
    "# OUR CODE HERE\n",
    "positions = [{   \n",
    "}] \n",
    "symbol = $$$$\n",
    "cash_amt = []\n",
    "\n",
    "\n",
    "print(\"Positions initialized:\", positions)"
   ]
  },
  {
   "cell_type": "markdown",
   "id": "10",
   "metadata": {},
   "source": [
    "## TODO 4  — Build final positions for the second client\n",
    "Process the second client's **BUY** and **SELL** transactions and update `positions` **as you go** (i.e., *dynamically*):\n",
    "\n",
    "1. If the `symbol` is already in a position adjust the `shares` accordingly\n",
    "2. If you encounter a `symbol` that isn't already in `positions`, **create a new position** for it with   \n",
    "`shares = trn['shares']` and `symbol = trn['symbol']`.  Append new positon to positions\n",
    "\n",
    "\n",
    "At the end, each symbol (including `\"$$$$\"` for cash) should appear **exactly once** in `positions`."
   ]
  },
  {
   "cell_type": "code",
   "execution_count": 13,
   "id": "11",
   "metadata": {},
   "outputs": [
    {
     "ename": "KeyError",
     "evalue": "'positions'",
     "output_type": "error",
     "traceback": [
      "\u001b[0;31m---------------------------------------------------------------------------\u001b[0m",
      "\u001b[0;31mKeyError\u001b[0m                                  Traceback (most recent call last)",
      "Cell \u001b[0;32mIn[13], line 28\u001b[0m\n\u001b[1;32m     24\u001b[0m     \u001b[38;5;28;01melif\u001b[39;00m trn[\u001b[38;5;124m'\u001b[39m\u001b[38;5;124mtype\u001b[39m\u001b[38;5;124m'\u001b[39m] \u001b[38;5;241m==\u001b[39m \u001b[38;5;124m'\u001b[39m\u001b[38;5;124mSELL\u001b[39m\u001b[38;5;124m'\u001b[39m:\n\u001b[1;32m     25\u001b[0m         \u001b[38;5;66;03m#TODO  process SELL type transactions\u001b[39;00m\n\u001b[1;32m     26\u001b[0m         \u001b[38;5;28;01mpass\u001b[39;00m\n\u001b[0;32m---> 28\u001b[0m \u001b[38;5;28;01mfor\u001b[39;00m position \u001b[38;5;129;01min\u001b[39;00m \u001b[43mclients\u001b[49m\u001b[43m[\u001b[49m\u001b[38;5;241;43m1\u001b[39;49m\u001b[43m]\u001b[49m\u001b[43m[\u001b[49m\u001b[38;5;124;43m'\u001b[39;49m\u001b[38;5;124;43mpositions\u001b[39;49m\u001b[38;5;124;43m'\u001b[39;49m\u001b[43m]\u001b[49m:\n\u001b[1;32m     29\u001b[0m     \u001b[38;5;28mprint\u001b[39m(\u001b[38;5;124mf\u001b[39m\u001b[38;5;124m\"\u001b[39m\u001b[38;5;132;01m{\u001b[39;00mposition[\u001b[38;5;124m'\u001b[39m\u001b[38;5;124mshares\u001b[39m\u001b[38;5;124m'\u001b[39m]\u001b[38;5;132;01m}\u001b[39;00m\u001b[38;5;124m  \u001b[39m\u001b[38;5;132;01m{\u001b[39;00mposition[\u001b[38;5;124m'\u001b[39m\u001b[38;5;124msymbol\u001b[39m\u001b[38;5;124m'\u001b[39m]\u001b[38;5;132;01m}\u001b[39;00m\u001b[38;5;124m\"\u001b[39m)\n\u001b[1;32m     33\u001b[0m \u001b[38;5;28mprint\u001b[39m(\u001b[38;5;124m\"\u001b[39m\u001b[38;5;124mFinal positions (client 2):\u001b[39m\u001b[38;5;124m\"\u001b[39m)\n",
      "\u001b[0;31mKeyError\u001b[0m: 'positions'"
     ]
    }
   ],
   "source": [
    "\n",
    "# TODO 4: update positions while processing BUY/SELL transactions\n",
    "for trn in trans:    # loop through all transactions    \n",
    "    '''\n",
    "    We already processed all ajustments to cash\n",
    "    Now, we just need to check BUYS ad SELLS and\n",
    "    adjust the shares amount.\n",
    "    '''\n",
    "    if trn['type'] == 'BUY':\n",
    "        '''\n",
    "        If the position is found in positions\n",
    "        we need to adjust shares. If not found\n",
    "        we need to create a new position\n",
    "        '''   \n",
    "        position_found = False\n",
    "        for position in positions:\n",
    "            if position['symbol'] == trn['symbol']:   # position found\n",
    "                position['shares'] += trn['shares']   # adjust shares\n",
    "                position_found = True                 # flip flag\n",
    "                break\n",
    "        if not position_found:                        # position not found\n",
    "            position = {'shares': trn['shares'],      # create new posiition\n",
    "                   'symbol': trn['symbol']}\n",
    "            positions.append(position)                # append new position to positions\n",
    "    elif trn['type'] == 'SELL':\n",
    "        #TODO  process SELL type transactions\n",
    "        pass\n",
    "\n",
    "for position in clients[1]['positions']:\n",
    "    print(f\"{position['shares']}  {position['symbol']}\")\n",
    "\n",
    "\n",
    "\n",
    "print(\"Final positions (client 2):\")\n",
    "for pos in positions:\n",
    "    print(pos[\"symbol\"], pos[\"shares\"])"
   ]
  }
 ],
 "metadata": {
  "kernelspec": {
   "display_name": "venv",
   "language": "python",
   "name": "python3"
  },
  "language_info": {
   "codemirror_mode": {
    "name": "ipython",
    "version": 3
   },
   "file_extension": ".py",
   "mimetype": "text/x-python",
   "name": "python",
   "nbconvert_exporter": "python",
   "pygments_lexer": "ipython3",
   "version": "3.10.18"
  }
 },
 "nbformat": 4,
 "nbformat_minor": 5
}
